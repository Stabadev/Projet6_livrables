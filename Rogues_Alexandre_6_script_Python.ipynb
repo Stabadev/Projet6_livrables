{
 "cells": [
  {
   "cell_type": "markdown",
   "id": "1c48cfe9-6080-4fe0-aa60-89f585ae8a8f",
   "metadata": {},
   "source": [
    "# API\n"
   ]
  },
  {
   "cell_type": "code",
   "execution_count": 1,
   "id": "99fc07e1-fdf5-41dd-9c12-0e53225a7e28",
   "metadata": {},
   "outputs": [
    {
     "name": "stdout",
     "output_type": "stream",
     "text": [
      "Les données des produits ont été sauvegardées dans champagne_products.csv\n"
     ]
    }
   ],
   "source": [
    "import requests\n",
    "import csv\n",
    "\n",
    "# Définir les informations d'authentification et l'URL de l'API\n",
    "api_key = 'e3f36a8158msh895610c25f043bbp15f9b6jsn511a4fa2ac3a'\n",
    "api_url = 'https://edamam-food-and-grocery-database.p.rapidapi.com/api/food-database/v2/parser'\n",
    "\n",
    "# Définir les paramètres de la requête\n",
    "params = {\n",
    "    'ingr': 'champagne'\n",
    "}\n",
    "\n",
    "# Définir les headers pour l'API RapidAPI\n",
    "headers = {\n",
    "    'X-RapidAPI-Key': api_key,\n",
    "    'X-RapidAPI-Host': 'edamam-food-and-grocery-database.p.rapidapi.com'\n",
    "}\n",
    "\n",
    "# Faire la requête à l'API\n",
    "response = requests.get(api_url, headers=headers, params=params)\n",
    "\n",
    "# Vérifier le statut de la réponse\n",
    "if response.status_code == 200:\n",
    "    data = response.json()\n",
    "    products = data.get('hints', [])[:10]\n",
    "\n",
    "    # Créer un fichier CSV et écrire les données des produits\n",
    "    with open('champagne_products.csv', mode='w', newline='', encoding='utf-8') as file:\n",
    "        writer = csv.writer(file)\n",
    "        writer.writerow(['foodId', 'label', 'category', 'foodContentsLabel', 'image'])\n",
    "\n",
    "        for product in products:\n",
    "            food = product.get('food', {})\n",
    "            food_id = food.get('foodId', 'N/A')\n",
    "            label = food.get('label', 'N/A')\n",
    "            category = food.get('category', 'N/A')\n",
    "            food_contents_label = food.get('foodContentsLabel', 'N/A')\n",
    "            image = food.get('image', 'N/A')\n",
    "            writer.writerow([food_id, label, category, food_contents_label, image])\n",
    "\n",
    "    print('Les données des produits ont été sauvegardées dans champagne_products.csv')\n",
    "else:\n",
    "    print('Erreur lors de la requête à l\\'API:', response.status_code)\n"
   ]
  },
  {
   "cell_type": "code",
   "execution_count": null,
   "id": "b4b45f49-ccb1-48d3-adbb-d70f58cf941f",
   "metadata": {},
   "outputs": [],
   "source": []
  }
 ],
 "metadata": {
  "kernelspec": {
   "display_name": "Python 3 (ipykernel)",
   "language": "python",
   "name": "python3"
  },
  "language_info": {
   "codemirror_mode": {
    "name": "ipython",
    "version": 3
   },
   "file_extension": ".py",
   "mimetype": "text/x-python",
   "name": "python",
   "nbconvert_exporter": "python",
   "pygments_lexer": "ipython3",
   "version": "3.12.3"
  }
 },
 "nbformat": 4,
 "nbformat_minor": 5
}
